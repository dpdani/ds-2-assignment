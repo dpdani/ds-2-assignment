{
 "cells": [
  {
   "cell_type": "markdown",
   "source": [
    "## Setup"
   ],
   "metadata": {
    "collapsed": false,
    "pycharm": {
     "name": "#%% md\n"
    }
   }
  },
  {
   "cell_type": "code",
   "execution_count": 68,
   "outputs": [],
   "source": [
    "from dataclasses import dataclass\n",
    "\n",
    "import numpy as np\n",
    "import pandas\n",
    "from pathlib import Path\n",
    "import os\n",
    "\n",
    "from pandas import DataFrame\n",
    "\n",
    "from experiment import Protocol\n",
    "from graph import Graph"
   ],
   "metadata": {
    "collapsed": false,
    "pycharm": {
     "name": "#%%\n"
    }
   }
  },
  {
   "cell_type": "code",
   "execution_count": 69,
   "outputs": [],
   "source": [
    "@dataclass(frozen=True, order=True)\n",
    "class Experiment:\n",
    "    protocol: Protocol\n",
    "    graph: Graph\n",
    "    nodes: int\n",
    "    view_size: int\n",
    "    shuffle_length: int\n",
    "    delta_t: int\n",
    "    disaster_intensity: float\n",
    "\n",
    "    @classmethod\n",
    "    def from_strings(cls, protocol, graph, nodes, view_size, shuffle_length, delta_t, disaster_intensity):\n",
    "        return cls(Protocol(protocol), Graph(graph), int(nodes), int(view_size), int(shuffle_length), int(delta_t), float(disaster_intensity))"
   ],
   "metadata": {
    "collapsed": false,
    "pycharm": {
     "name": "#%%\n"
    }
   }
  },
  {
   "cell_type": "code",
   "execution_count": 70,
   "outputs": [
    {
     "name": "stdout",
     "output_type": "stream",
     "text": [
      "There are 433 saved runs.\n"
     ]
    }
   ],
   "source": [
    "runs = {}\n",
    "\n",
    "for ff in os.listdir(Path() / \"runs\"):\n",
    "    if ff.endswith('0.csv'):\n",
    "        df: DataFrame = pandas.read_csv(Path() / \"runs\" / ff)\n",
    "        df.drop(df.columns[0], axis=1, inplace=True)\n",
    "        rows, _ = df.shape\n",
    "        if rows > 0:\n",
    "            params = tuple(ff.rstrip(' 0.csv').split(' '))\n",
    "            runs[Experiment.from_strings(*params)] = df\n",
    "print(f\"There are {len(runs)} saved runs.\")"
   ],
   "metadata": {
    "collapsed": false,
    "pycharm": {
     "name": "#%%\n"
    }
   }
  },
  {
   "cell_type": "markdown",
   "source": [
    "## Partitioning"
   ],
   "metadata": {
    "collapsed": false,
    "pycharm": {
     "name": "#%% md\n"
    }
   }
  },
  {
   "cell_type": "code",
   "execution_count": 71,
   "outputs": [],
   "source": [
    "partitioned_runs = {}\n",
    "\n",
    "for run in runs:\n",
    "    df = runs[run]\n",
    "    rows, _ = df.shape\n",
    "    if max(df.head(rows // 3)[\"Alive Partitions\"]) > 1:\n",
    "        partitioned_runs[run] = df"
   ],
   "metadata": {
    "collapsed": false,
    "pycharm": {
     "name": "#%%\n"
    }
   }
  },
  {
   "cell_type": "code",
   "execution_count": 72,
   "outputs": [
    {
     "name": "stdout",
     "output_type": "stream",
     "text": [
      "There are 20 partitioned runs:\n",
      "  - Experiment(protocol=<Protocol.CYCLON: 'cyclon'>, graph=<Graph.GEO: 'geo'>, nodes=1000, view_size=100, shuffle_length=10, delta_t=1, disaster_intensity=0.5)\n",
      "  - Experiment(protocol=<Protocol.CYCLON: 'cyclon'>, graph=<Graph.GEO: 'geo'>, nodes=1000, view_size=100, shuffle_length=10, delta_t=1, disaster_intensity=0.75)\n",
      "  - Experiment(protocol=<Protocol.CYCLON: 'cyclon'>, graph=<Graph.GEO: 'geo'>, nodes=1000, view_size=100, shuffle_length=10, delta_t=1, disaster_intensity=0.95)\n",
      "  - Experiment(protocol=<Protocol.CYCLON: 'cyclon'>, graph=<Graph.GEO: 'geo'>, nodes=1000, view_size=20, shuffle_length=10, delta_t=1, disaster_intensity=0.5)\n",
      "  - Experiment(protocol=<Protocol.CYCLON: 'cyclon'>, graph=<Graph.GEO: 'geo'>, nodes=1000, view_size=20, shuffle_length=10, delta_t=1, disaster_intensity=0.75)\n",
      "  - Experiment(protocol=<Protocol.CYCLON: 'cyclon'>, graph=<Graph.GEO: 'geo'>, nodes=1000, view_size=20, shuffle_length=15, delta_t=1, disaster_intensity=0.5)\n",
      "  - Experiment(protocol=<Protocol.CYCLON: 'cyclon'>, graph=<Graph.GEO: 'geo'>, nodes=1000, view_size=20, shuffle_length=15, delta_t=1, disaster_intensity=0.75)\n",
      "  - Experiment(protocol=<Protocol.CYCLON: 'cyclon'>, graph=<Graph.GEO: 'geo'>, nodes=1000, view_size=20, shuffle_length=15, delta_t=1, disaster_intensity=0.95)\n",
      "  - Experiment(protocol=<Protocol.CYCLON: 'cyclon'>, graph=<Graph.GEO: 'geo'>, nodes=1000, view_size=20, shuffle_length=6, delta_t=1, disaster_intensity=0.5)\n",
      "  - Experiment(protocol=<Protocol.CYCLON: 'cyclon'>, graph=<Graph.GEO: 'geo'>, nodes=1000, view_size=20, shuffle_length=6, delta_t=1, disaster_intensity=0.75)\n",
      "  - Experiment(protocol=<Protocol.CYCLON: 'cyclon'>, graph=<Graph.GEO: 'geo'>, nodes=1000, view_size=20, shuffle_length=6, delta_t=1, disaster_intensity=0.95)\n",
      "  - Experiment(protocol=<Protocol.CYCLON: 'cyclon'>, graph=<Graph.GEO: 'geo'>, nodes=1000, view_size=50, shuffle_length=6, delta_t=1, disaster_intensity=0.5)\n",
      "  - Experiment(protocol=<Protocol.CYCLON: 'cyclon'>, graph=<Graph.GEO: 'geo'>, nodes=1000, view_size=50, shuffle_length=6, delta_t=1, disaster_intensity=0.75)\n",
      "  - Experiment(protocol=<Protocol.CYCLON: 'cyclon'>, graph=<Graph.GEO: 'geo'>, nodes=1000, view_size=50, shuffle_length=6, delta_t=1, disaster_intensity=0.95)\n",
      "  - Experiment(protocol=<Protocol.NEWSCAST: 'newscast'>, graph=<Graph.GEO: 'geo'>, nodes=1000, view_size=20, shuffle_length=10, delta_t=1, disaster_intensity=0.5)\n",
      "  - Experiment(protocol=<Protocol.NEWSCAST: 'newscast'>, graph=<Graph.GEO: 'geo'>, nodes=1000, view_size=20, shuffle_length=10, delta_t=1, disaster_intensity=0.75)\n",
      "  - Experiment(protocol=<Protocol.NEWSCAST: 'newscast'>, graph=<Graph.GEO: 'geo'>, nodes=1000, view_size=20, shuffle_length=10, delta_t=1, disaster_intensity=0.95)\n",
      "  - Experiment(protocol=<Protocol.NEWSCAST: 'newscast'>, graph=<Graph.GEO: 'geo'>, nodes=1000, view_size=20, shuffle_length=10, delta_t=4, disaster_intensity=0.5)\n",
      "  - Experiment(protocol=<Protocol.NEWSCAST: 'newscast'>, graph=<Graph.GEO: 'geo'>, nodes=1000, view_size=20, shuffle_length=10, delta_t=4, disaster_intensity=0.75)\n",
      "  - Experiment(protocol=<Protocol.NEWSCAST: 'newscast'>, graph=<Graph.GEO: 'geo'>, nodes=1000, view_size=20, shuffle_length=10, delta_t=4, disaster_intensity=0.95)\n"
     ]
    }
   ],
   "source": [
    "print(f\"There are {len(partitioned_runs)} partitioned runs:\")\n",
    "for params in partitioned_runs:\n",
    "    print(f\"  - {params}\")"
   ],
   "metadata": {
    "collapsed": false,
    "pycharm": {
     "name": "#%%\n"
    }
   }
  },
  {
   "cell_type": "code",
   "execution_count": 73,
   "outputs": [],
   "source": [
    "recovered_runs = {}\n",
    "\n",
    "for run in partitioned_runs:\n",
    "    df = partitioned_runs[run]\n",
    "    rows, _ = df.shape\n",
    "    if df[\"Alive Partitions\"][rows // 3] == 1:\n",
    "        recovered_runs[run] = df"
   ],
   "metadata": {
    "collapsed": false,
    "pycharm": {
     "name": "#%%\n"
    }
   }
  },
  {
   "cell_type": "code",
   "execution_count": 74,
   "outputs": [
    {
     "name": "stdout",
     "output_type": "stream",
     "text": [
      "There are 18 recovered runs:\n",
      "  - Experiment(protocol=<Protocol.CYCLON: 'cyclon'>, graph=<Graph.GEO: 'geo'>, nodes=1000, view_size=100, shuffle_length=10, delta_t=1, disaster_intensity=0.5)\n",
      "  - Experiment(protocol=<Protocol.CYCLON: 'cyclon'>, graph=<Graph.GEO: 'geo'>, nodes=1000, view_size=100, shuffle_length=10, delta_t=1, disaster_intensity=0.75)\n",
      "  - Experiment(protocol=<Protocol.CYCLON: 'cyclon'>, graph=<Graph.GEO: 'geo'>, nodes=1000, view_size=100, shuffle_length=10, delta_t=1, disaster_intensity=0.95)\n",
      "  - Experiment(protocol=<Protocol.CYCLON: 'cyclon'>, graph=<Graph.GEO: 'geo'>, nodes=1000, view_size=20, shuffle_length=10, delta_t=1, disaster_intensity=0.5)\n",
      "  - Experiment(protocol=<Protocol.CYCLON: 'cyclon'>, graph=<Graph.GEO: 'geo'>, nodes=1000, view_size=20, shuffle_length=10, delta_t=1, disaster_intensity=0.75)\n",
      "  - Experiment(protocol=<Protocol.CYCLON: 'cyclon'>, graph=<Graph.GEO: 'geo'>, nodes=1000, view_size=20, shuffle_length=15, delta_t=1, disaster_intensity=0.5)\n",
      "  - Experiment(protocol=<Protocol.CYCLON: 'cyclon'>, graph=<Graph.GEO: 'geo'>, nodes=1000, view_size=20, shuffle_length=15, delta_t=1, disaster_intensity=0.75)\n",
      "  - Experiment(protocol=<Protocol.CYCLON: 'cyclon'>, graph=<Graph.GEO: 'geo'>, nodes=1000, view_size=20, shuffle_length=15, delta_t=1, disaster_intensity=0.95)\n",
      "  - Experiment(protocol=<Protocol.CYCLON: 'cyclon'>, graph=<Graph.GEO: 'geo'>, nodes=1000, view_size=20, shuffle_length=6, delta_t=1, disaster_intensity=0.5)\n",
      "  - Experiment(protocol=<Protocol.CYCLON: 'cyclon'>, graph=<Graph.GEO: 'geo'>, nodes=1000, view_size=20, shuffle_length=6, delta_t=1, disaster_intensity=0.75)\n",
      "  - Experiment(protocol=<Protocol.CYCLON: 'cyclon'>, graph=<Graph.GEO: 'geo'>, nodes=1000, view_size=20, shuffle_length=6, delta_t=1, disaster_intensity=0.95)\n",
      "  - Experiment(protocol=<Protocol.CYCLON: 'cyclon'>, graph=<Graph.GEO: 'geo'>, nodes=1000, view_size=50, shuffle_length=6, delta_t=1, disaster_intensity=0.5)\n",
      "  - Experiment(protocol=<Protocol.CYCLON: 'cyclon'>, graph=<Graph.GEO: 'geo'>, nodes=1000, view_size=50, shuffle_length=6, delta_t=1, disaster_intensity=0.75)\n",
      "  - Experiment(protocol=<Protocol.CYCLON: 'cyclon'>, graph=<Graph.GEO: 'geo'>, nodes=1000, view_size=50, shuffle_length=6, delta_t=1, disaster_intensity=0.95)\n",
      "  - Experiment(protocol=<Protocol.NEWSCAST: 'newscast'>, graph=<Graph.GEO: 'geo'>, nodes=1000, view_size=20, shuffle_length=10, delta_t=1, disaster_intensity=0.5)\n",
      "  - Experiment(protocol=<Protocol.NEWSCAST: 'newscast'>, graph=<Graph.GEO: 'geo'>, nodes=1000, view_size=20, shuffle_length=10, delta_t=1, disaster_intensity=0.75)\n",
      "  - Experiment(protocol=<Protocol.NEWSCAST: 'newscast'>, graph=<Graph.GEO: 'geo'>, nodes=1000, view_size=20, shuffle_length=10, delta_t=1, disaster_intensity=0.95)\n",
      "  - Experiment(protocol=<Protocol.NEWSCAST: 'newscast'>, graph=<Graph.GEO: 'geo'>, nodes=1000, view_size=20, shuffle_length=10, delta_t=4, disaster_intensity=0.5)\n",
      "  - Experiment(protocol=<Protocol.NEWSCAST: 'newscast'>, graph=<Graph.GEO: 'geo'>, nodes=1000, view_size=20, shuffle_length=10, delta_t=4, disaster_intensity=0.75)\n",
      "  - Experiment(protocol=<Protocol.NEWSCAST: 'newscast'>, graph=<Graph.GEO: 'geo'>, nodes=1000, view_size=20, shuffle_length=10, delta_t=4, disaster_intensity=0.95)\n"
     ]
    }
   ],
   "source": [
    "print(f\"There are {len(recovered_runs)} recovered runs:\")\n",
    "for params in partitioned_runs:\n",
    "    print(f\"  - {params}\")"
   ],
   "metadata": {
    "collapsed": false,
    "pycharm": {
     "name": "#%%\n"
    }
   }
  },
  {
   "cell_type": "code",
   "execution_count": 75,
   "outputs": [
    {
     "name": "stdout",
     "output_type": "stream",
     "text": [
      "There are 2 unrecovered runs.\n",
      "  - Experiment(protocol=<Protocol.NEWSCAST: 'newscast'>, graph=<Graph.GEO: 'geo'>, nodes=1000, view_size=20, shuffle_length=10, delta_t=4, disaster_intensity=0.5)\n",
      "  - Experiment(protocol=<Protocol.NEWSCAST: 'newscast'>, graph=<Graph.GEO: 'geo'>, nodes=1000, view_size=20, shuffle_length=10, delta_t=4, disaster_intensity=0.75)\n"
     ]
    }
   ],
   "source": [
    "unrecovered_runs = set(partitioned_runs.keys()) - set(recovered_runs.keys())\n",
    "print(f\"There are {len(unrecovered_runs)} unrecovered runs.\")\n",
    "for run in sorted(unrecovered_runs):\n",
    "    print(f\"  - {run}\")"
   ],
   "metadata": {
    "collapsed": false,
    "pycharm": {
     "name": "#%%\n"
    }
   }
  },
  {
   "cell_type": "code",
   "execution_count": 76,
   "outputs": [],
   "source": [
    "partitioned_after_disaster = {}\n",
    "\n",
    "for run in runs:\n",
    "    df = runs[run]\n",
    "    rows, _ = df.shape\n",
    "    if run not in partitioned_runs and max(df.head(rows // 3 * 2)[\"Alive Partitions\"]) > 1:\n",
    "        partitioned_after_disaster[run] = df\n",
    "\n",
    "\n",
    "recovered_after_disaster = {}\n",
    "\n",
    "for run in partitioned_after_disaster:\n",
    "    df = partitioned_after_disaster[run]\n",
    "    rows, _ = df.shape\n",
    "    if df[\"Alive Partitions\"][rows // 3 * 2] == 1:\n",
    "        recovered_after_disaster[run] = df\n",
    "\n",
    "unrecovered_after_disaster = set(partitioned_after_disaster.keys()) - set(recovered_after_disaster.keys())"
   ],
   "metadata": {
    "collapsed": false,
    "pycharm": {
     "name": "#%%\n"
    }
   }
  },
  {
   "cell_type": "code",
   "execution_count": 77,
   "outputs": [
    {
     "name": "stdout",
     "output_type": "stream",
     "text": [
      "There are 66 runs which partitioned after the disaster:\n",
      "  - Experiment(protocol=<Protocol.CYCLON: 'cyclon'>, graph=<Graph.GEO: 'geo'>, nodes=1000, view_size=20, shuffle_length=10, delta_t=1, disaster_intensity=0.95)\n",
      "  - Experiment(protocol=<Protocol.CYCLON: 'cyclon'>, graph=<Graph.GEO: 'geo'>, nodes=1000, view_size=20, shuffle_length=10, delta_t=10, disaster_intensity=0.95)\n",
      "  - Experiment(protocol=<Protocol.CYCLON: 'cyclon'>, graph=<Graph.GEO: 'geo'>, nodes=1000, view_size=20, shuffle_length=10, delta_t=4, disaster_intensity=0.95)\n",
      "  - Experiment(protocol=<Protocol.CYCLON: 'cyclon'>, graph=<Graph.GEO: 'geo'>, nodes=1000, view_size=20, shuffle_length=15, delta_t=10, disaster_intensity=0.95)\n",
      "  - Experiment(protocol=<Protocol.CYCLON: 'cyclon'>, graph=<Graph.GEO: 'geo'>, nodes=1000, view_size=20, shuffle_length=15, delta_t=4, disaster_intensity=0.95)\n",
      "  - Experiment(protocol=<Protocol.CYCLON: 'cyclon'>, graph=<Graph.GEO: 'geo'>, nodes=1000, view_size=20, shuffle_length=6, delta_t=10, disaster_intensity=0.95)\n",
      "  - Experiment(protocol=<Protocol.CYCLON: 'cyclon'>, graph=<Graph.GEO: 'geo'>, nodes=1000, view_size=20, shuffle_length=6, delta_t=4, disaster_intensity=0.95)\n",
      "  - Experiment(protocol=<Protocol.CYCLON: 'cyclon'>, graph=<Graph.GEO: 'geo'>, nodes=1000, view_size=50, shuffle_length=15, delta_t=10, disaster_intensity=0.95)\n",
      "  - Experiment(protocol=<Protocol.CYCLON: 'cyclon'>, graph=<Graph.GEO: 'geo'>, nodes=1000, view_size=50, shuffle_length=6, delta_t=10, disaster_intensity=0.95)\n",
      "  - Experiment(protocol=<Protocol.CYCLON: 'cyclon'>, graph=<Graph.LATTICE: 'lattice'>, nodes=1000, view_size=100, shuffle_length=10, delta_t=1, disaster_intensity=0.95)\n",
      "  - Experiment(protocol=<Protocol.CYCLON: 'cyclon'>, graph=<Graph.LATTICE: 'lattice'>, nodes=1000, view_size=100, shuffle_length=6, delta_t=1, disaster_intensity=0.95)\n",
      "  - Experiment(protocol=<Protocol.CYCLON: 'cyclon'>, graph=<Graph.LATTICE: 'lattice'>, nodes=1000, view_size=100, shuffle_length=6, delta_t=10, disaster_intensity=0.95)\n",
      "  - Experiment(protocol=<Protocol.CYCLON: 'cyclon'>, graph=<Graph.LATTICE: 'lattice'>, nodes=1000, view_size=100, shuffle_length=6, delta_t=4, disaster_intensity=0.95)\n",
      "  - Experiment(protocol=<Protocol.CYCLON: 'cyclon'>, graph=<Graph.LATTICE: 'lattice'>, nodes=1000, view_size=20, shuffle_length=10, delta_t=1, disaster_intensity=0.95)\n",
      "  - Experiment(protocol=<Protocol.CYCLON: 'cyclon'>, graph=<Graph.LATTICE: 'lattice'>, nodes=1000, view_size=20, shuffle_length=10, delta_t=10, disaster_intensity=0.95)\n",
      "  - Experiment(protocol=<Protocol.CYCLON: 'cyclon'>, graph=<Graph.LATTICE: 'lattice'>, nodes=1000, view_size=20, shuffle_length=10, delta_t=4, disaster_intensity=0.75)\n",
      "  - Experiment(protocol=<Protocol.CYCLON: 'cyclon'>, graph=<Graph.LATTICE: 'lattice'>, nodes=1000, view_size=20, shuffle_length=10, delta_t=4, disaster_intensity=0.95)\n",
      "  - Experiment(protocol=<Protocol.CYCLON: 'cyclon'>, graph=<Graph.LATTICE: 'lattice'>, nodes=1000, view_size=20, shuffle_length=15, delta_t=1, disaster_intensity=0.95)\n",
      "  - Experiment(protocol=<Protocol.CYCLON: 'cyclon'>, graph=<Graph.LATTICE: 'lattice'>, nodes=1000, view_size=20, shuffle_length=15, delta_t=10, disaster_intensity=0.95)\n",
      "  - Experiment(protocol=<Protocol.CYCLON: 'cyclon'>, graph=<Graph.LATTICE: 'lattice'>, nodes=1000, view_size=20, shuffle_length=15, delta_t=4, disaster_intensity=0.95)\n",
      "  - Experiment(protocol=<Protocol.CYCLON: 'cyclon'>, graph=<Graph.LATTICE: 'lattice'>, nodes=1000, view_size=20, shuffle_length=6, delta_t=1, disaster_intensity=0.75)\n",
      "  - Experiment(protocol=<Protocol.CYCLON: 'cyclon'>, graph=<Graph.LATTICE: 'lattice'>, nodes=1000, view_size=20, shuffle_length=6, delta_t=1, disaster_intensity=0.95)\n",
      "  - Experiment(protocol=<Protocol.CYCLON: 'cyclon'>, graph=<Graph.LATTICE: 'lattice'>, nodes=1000, view_size=20, shuffle_length=6, delta_t=10, disaster_intensity=0.95)\n",
      "  - Experiment(protocol=<Protocol.CYCLON: 'cyclon'>, graph=<Graph.LATTICE: 'lattice'>, nodes=1000, view_size=20, shuffle_length=6, delta_t=4, disaster_intensity=0.95)\n",
      "  - Experiment(protocol=<Protocol.CYCLON: 'cyclon'>, graph=<Graph.LATTICE: 'lattice'>, nodes=1000, view_size=50, shuffle_length=10, delta_t=1, disaster_intensity=0.95)\n",
      "  - Experiment(protocol=<Protocol.CYCLON: 'cyclon'>, graph=<Graph.LATTICE: 'lattice'>, nodes=1000, view_size=50, shuffle_length=10, delta_t=10, disaster_intensity=0.95)\n",
      "  - Experiment(protocol=<Protocol.CYCLON: 'cyclon'>, graph=<Graph.LATTICE: 'lattice'>, nodes=1000, view_size=50, shuffle_length=10, delta_t=4, disaster_intensity=0.95)\n",
      "  - Experiment(protocol=<Protocol.CYCLON: 'cyclon'>, graph=<Graph.LATTICE: 'lattice'>, nodes=1000, view_size=50, shuffle_length=15, delta_t=1, disaster_intensity=0.95)\n",
      "  - Experiment(protocol=<Protocol.CYCLON: 'cyclon'>, graph=<Graph.LATTICE: 'lattice'>, nodes=1000, view_size=50, shuffle_length=15, delta_t=10, disaster_intensity=0.95)\n",
      "  - Experiment(protocol=<Protocol.CYCLON: 'cyclon'>, graph=<Graph.LATTICE: 'lattice'>, nodes=1000, view_size=50, shuffle_length=15, delta_t=4, disaster_intensity=0.95)\n",
      "  - Experiment(protocol=<Protocol.CYCLON: 'cyclon'>, graph=<Graph.LATTICE: 'lattice'>, nodes=1000, view_size=50, shuffle_length=6, delta_t=1, disaster_intensity=0.95)\n",
      "  - Experiment(protocol=<Protocol.CYCLON: 'cyclon'>, graph=<Graph.LATTICE: 'lattice'>, nodes=1000, view_size=50, shuffle_length=6, delta_t=10, disaster_intensity=0.95)\n",
      "  - Experiment(protocol=<Protocol.CYCLON: 'cyclon'>, graph=<Graph.LATTICE: 'lattice'>, nodes=1000, view_size=50, shuffle_length=6, delta_t=4, disaster_intensity=0.95)\n",
      "  - Experiment(protocol=<Protocol.CYCLON: 'cyclon'>, graph=<Graph.RANDOM: 'random'>, nodes=1000, view_size=20, shuffle_length=10, delta_t=1, disaster_intensity=0.95)\n",
      "  - Experiment(protocol=<Protocol.CYCLON: 'cyclon'>, graph=<Graph.RANDOM: 'random'>, nodes=1000, view_size=20, shuffle_length=10, delta_t=10, disaster_intensity=0.95)\n",
      "  - Experiment(protocol=<Protocol.CYCLON: 'cyclon'>, graph=<Graph.RANDOM: 'random'>, nodes=1000, view_size=20, shuffle_length=10, delta_t=4, disaster_intensity=0.95)\n",
      "  - Experiment(protocol=<Protocol.CYCLON: 'cyclon'>, graph=<Graph.RANDOM: 'random'>, nodes=1000, view_size=20, shuffle_length=15, delta_t=1, disaster_intensity=0.95)\n",
      "  - Experiment(protocol=<Protocol.CYCLON: 'cyclon'>, graph=<Graph.RANDOM: 'random'>, nodes=1000, view_size=20, shuffle_length=15, delta_t=10, disaster_intensity=0.95)\n",
      "  - Experiment(protocol=<Protocol.CYCLON: 'cyclon'>, graph=<Graph.RANDOM: 'random'>, nodes=1000, view_size=20, shuffle_length=15, delta_t=4, disaster_intensity=0.95)\n",
      "  - Experiment(protocol=<Protocol.CYCLON: 'cyclon'>, graph=<Graph.RANDOM: 'random'>, nodes=1000, view_size=20, shuffle_length=6, delta_t=1, disaster_intensity=0.95)\n",
      "  - Experiment(protocol=<Protocol.CYCLON: 'cyclon'>, graph=<Graph.RANDOM: 'random'>, nodes=1000, view_size=20, shuffle_length=6, delta_t=10, disaster_intensity=0.95)\n",
      "  - Experiment(protocol=<Protocol.CYCLON: 'cyclon'>, graph=<Graph.RANDOM: 'random'>, nodes=1000, view_size=20, shuffle_length=6, delta_t=4, disaster_intensity=0.95)\n",
      "  - Experiment(protocol=<Protocol.CYCLON: 'cyclon'>, graph=<Graph.RANDOM: 'random'>, nodes=1000, view_size=50, shuffle_length=10, delta_t=1, disaster_intensity=0.95)\n",
      "  - Experiment(protocol=<Protocol.CYCLON: 'cyclon'>, graph=<Graph.RANDOM: 'random'>, nodes=1000, view_size=50, shuffle_length=15, delta_t=4, disaster_intensity=0.95)\n",
      "  - Experiment(protocol=<Protocol.CYCLON: 'cyclon'>, graph=<Graph.STAR: 'star'>, nodes=1000, view_size=20, shuffle_length=10, delta_t=1, disaster_intensity=0.95)\n",
      "  - Experiment(protocol=<Protocol.CYCLON: 'cyclon'>, graph=<Graph.STAR: 'star'>, nodes=1000, view_size=20, shuffle_length=10, delta_t=10, disaster_intensity=0.95)\n",
      "  - Experiment(protocol=<Protocol.CYCLON: 'cyclon'>, graph=<Graph.STAR: 'star'>, nodes=1000, view_size=20, shuffle_length=10, delta_t=4, disaster_intensity=0.95)\n",
      "  - Experiment(protocol=<Protocol.CYCLON: 'cyclon'>, graph=<Graph.STAR: 'star'>, nodes=1000, view_size=20, shuffle_length=15, delta_t=1, disaster_intensity=0.95)\n",
      "  - Experiment(protocol=<Protocol.CYCLON: 'cyclon'>, graph=<Graph.STAR: 'star'>, nodes=1000, view_size=20, shuffle_length=15, delta_t=10, disaster_intensity=0.95)\n",
      "  - Experiment(protocol=<Protocol.CYCLON: 'cyclon'>, graph=<Graph.STAR: 'star'>, nodes=1000, view_size=20, shuffle_length=15, delta_t=4, disaster_intensity=0.95)\n",
      "  - Experiment(protocol=<Protocol.CYCLON: 'cyclon'>, graph=<Graph.STAR: 'star'>, nodes=1000, view_size=20, shuffle_length=6, delta_t=1, disaster_intensity=0.95)\n",
      "  - Experiment(protocol=<Protocol.CYCLON: 'cyclon'>, graph=<Graph.STAR: 'star'>, nodes=1000, view_size=20, shuffle_length=6, delta_t=10, disaster_intensity=0.95)\n",
      "  - Experiment(protocol=<Protocol.CYCLON: 'cyclon'>, graph=<Graph.STAR: 'star'>, nodes=1000, view_size=20, shuffle_length=6, delta_t=4, disaster_intensity=0.95)\n",
      "  - Experiment(protocol=<Protocol.CYCLON: 'cyclon'>, graph=<Graph.STAR: 'star'>, nodes=1000, view_size=50, shuffle_length=10, delta_t=1, disaster_intensity=0.95)\n",
      "  - Experiment(protocol=<Protocol.CYCLON: 'cyclon'>, graph=<Graph.STAR: 'star'>, nodes=1000, view_size=50, shuffle_length=10, delta_t=4, disaster_intensity=0.95)\n",
      "  - Experiment(protocol=<Protocol.CYCLON: 'cyclon'>, graph=<Graph.STAR: 'star'>, nodes=1000, view_size=50, shuffle_length=15, delta_t=1, disaster_intensity=0.95)\n",
      "  - Experiment(protocol=<Protocol.CYCLON: 'cyclon'>, graph=<Graph.STAR: 'star'>, nodes=1000, view_size=50, shuffle_length=15, delta_t=4, disaster_intensity=0.95)\n",
      "  - Experiment(protocol=<Protocol.CYCLON: 'cyclon'>, graph=<Graph.STAR: 'star'>, nodes=1000, view_size=50, shuffle_length=6, delta_t=10, disaster_intensity=0.95)\n",
      "  - Experiment(protocol=<Protocol.CYCLON: 'cyclon'>, graph=<Graph.STAR: 'star'>, nodes=1000, view_size=50, shuffle_length=6, delta_t=4, disaster_intensity=0.95)\n",
      "  - Experiment(protocol=<Protocol.NEWSCAST: 'newscast'>, graph=<Graph.LATTICE: 'lattice'>, nodes=1000, view_size=20, shuffle_length=10, delta_t=1, disaster_intensity=0.75)\n",
      "  - Experiment(protocol=<Protocol.NEWSCAST: 'newscast'>, graph=<Graph.LATTICE: 'lattice'>, nodes=1000, view_size=20, shuffle_length=10, delta_t=1, disaster_intensity=0.95)\n",
      "  - Experiment(protocol=<Protocol.NEWSCAST: 'newscast'>, graph=<Graph.LATTICE: 'lattice'>, nodes=1000, view_size=20, shuffle_length=10, delta_t=4, disaster_intensity=0.95)\n",
      "  - Experiment(protocol=<Protocol.NEWSCAST: 'newscast'>, graph=<Graph.LATTICE: 'lattice'>, nodes=1000, view_size=50, shuffle_length=10, delta_t=1, disaster_intensity=0.95)\n",
      "  - Experiment(protocol=<Protocol.NEWSCAST: 'newscast'>, graph=<Graph.LATTICE: 'lattice'>, nodes=1000, view_size=50, shuffle_length=10, delta_t=4, disaster_intensity=0.95)\n",
      "  - Experiment(protocol=<Protocol.NEWSCAST: 'newscast'>, graph=<Graph.RANDOM: 'random'>, nodes=1000, view_size=20, shuffle_length=10, delta_t=10, disaster_intensity=0.95)\n",
      "  - Experiment(protocol=<Protocol.NEWSCAST: 'newscast'>, graph=<Graph.RANDOM: 'random'>, nodes=1000, view_size=20, shuffle_length=10, delta_t=4, disaster_intensity=0.95)\n"
     ]
    }
   ],
   "source": [
    "print(f\"There are {len(partitioned_after_disaster)} runs which partitioned after the disaster:\")\n",
    "for params in partitioned_after_disaster:\n",
    "    print(f\"  - {params}\")"
   ],
   "metadata": {
    "collapsed": false,
    "pycharm": {
     "name": "#%%\n"
    }
   }
  },
  {
   "cell_type": "code",
   "execution_count": 78,
   "outputs": [
    {
     "name": "stdout",
     "output_type": "stream",
     "text": [
      "There are 15 runs which recovered after disaster:\n",
      "  - Experiment(protocol=<Protocol.CYCLON: 'cyclon'>, graph=<Graph.GEO: 'geo'>, nodes=1000, view_size=20, shuffle_length=15, delta_t=4, disaster_intensity=0.95)\n",
      "  - Experiment(protocol=<Protocol.CYCLON: 'cyclon'>, graph=<Graph.GEO: 'geo'>, nodes=1000, view_size=50, shuffle_length=15, delta_t=10, disaster_intensity=0.95)\n",
      "  - Experiment(protocol=<Protocol.CYCLON: 'cyclon'>, graph=<Graph.GEO: 'geo'>, nodes=1000, view_size=50, shuffle_length=6, delta_t=10, disaster_intensity=0.95)\n",
      "  - Experiment(protocol=<Protocol.CYCLON: 'cyclon'>, graph=<Graph.LATTICE: 'lattice'>, nodes=1000, view_size=20, shuffle_length=10, delta_t=4, disaster_intensity=0.75)\n",
      "  - Experiment(protocol=<Protocol.CYCLON: 'cyclon'>, graph=<Graph.LATTICE: 'lattice'>, nodes=1000, view_size=20, shuffle_length=6, delta_t=1, disaster_intensity=0.75)\n",
      "  - Experiment(protocol=<Protocol.CYCLON: 'cyclon'>, graph=<Graph.LATTICE: 'lattice'>, nodes=1000, view_size=50, shuffle_length=10, delta_t=10, disaster_intensity=0.95)\n",
      "  - Experiment(protocol=<Protocol.CYCLON: 'cyclon'>, graph=<Graph.LATTICE: 'lattice'>, nodes=1000, view_size=50, shuffle_length=10, delta_t=4, disaster_intensity=0.95)\n",
      "  - Experiment(protocol=<Protocol.CYCLON: 'cyclon'>, graph=<Graph.LATTICE: 'lattice'>, nodes=1000, view_size=50, shuffle_length=15, delta_t=1, disaster_intensity=0.95)\n",
      "  - Experiment(protocol=<Protocol.CYCLON: 'cyclon'>, graph=<Graph.LATTICE: 'lattice'>, nodes=1000, view_size=50, shuffle_length=15, delta_t=10, disaster_intensity=0.95)\n",
      "  - Experiment(protocol=<Protocol.CYCLON: 'cyclon'>, graph=<Graph.LATTICE: 'lattice'>, nodes=1000, view_size=50, shuffle_length=15, delta_t=4, disaster_intensity=0.95)\n",
      "  - Experiment(protocol=<Protocol.CYCLON: 'cyclon'>, graph=<Graph.LATTICE: 'lattice'>, nodes=1000, view_size=50, shuffle_length=6, delta_t=10, disaster_intensity=0.95)\n",
      "  - Experiment(protocol=<Protocol.CYCLON: 'cyclon'>, graph=<Graph.LATTICE: 'lattice'>, nodes=1000, view_size=50, shuffle_length=6, delta_t=4, disaster_intensity=0.95)\n",
      "  - Experiment(protocol=<Protocol.CYCLON: 'cyclon'>, graph=<Graph.RANDOM: 'random'>, nodes=1000, view_size=50, shuffle_length=10, delta_t=1, disaster_intensity=0.95)\n",
      "  - Experiment(protocol=<Protocol.CYCLON: 'cyclon'>, graph=<Graph.STAR: 'star'>, nodes=1000, view_size=50, shuffle_length=15, delta_t=1, disaster_intensity=0.95)\n",
      "  - Experiment(protocol=<Protocol.NEWSCAST: 'newscast'>, graph=<Graph.LATTICE: 'lattice'>, nodes=1000, view_size=20, shuffle_length=10, delta_t=1, disaster_intensity=0.75)\n"
     ]
    }
   ],
   "source": [
    "print(f\"There are {len(recovered_after_disaster)} runs which recovered after disaster:\")\n",
    "for params in recovered_after_disaster:\n",
    "    print(f\"  - {params}\")"
   ],
   "metadata": {
    "collapsed": false,
    "pycharm": {
     "name": "#%%\n"
    }
   }
  },
  {
   "cell_type": "code",
   "execution_count": 79,
   "outputs": [
    {
     "name": "stdout",
     "output_type": "stream",
     "text": [
      "There are 51 runs which didn't recover after disaster.\n",
      "  - Experiment(protocol=<Protocol.CYCLON: 'cyclon'>, graph=<Graph.LATTICE: 'lattice'>, nodes=1000, view_size=20, shuffle_length=10, delta_t=10, disaster_intensity=0.95)\n",
      "  - Experiment(protocol=<Protocol.CYCLON: 'cyclon'>, graph=<Graph.RANDOM: 'random'>, nodes=1000, view_size=20, shuffle_length=6, delta_t=1, disaster_intensity=0.95)\n",
      "  - Experiment(protocol=<Protocol.CYCLON: 'cyclon'>, graph=<Graph.LATTICE: 'lattice'>, nodes=1000, view_size=20, shuffle_length=15, delta_t=1, disaster_intensity=0.95)\n",
      "  - Experiment(protocol=<Protocol.CYCLON: 'cyclon'>, graph=<Graph.LATTICE: 'lattice'>, nodes=1000, view_size=20, shuffle_length=15, delta_t=10, disaster_intensity=0.95)\n",
      "  - Experiment(protocol=<Protocol.CYCLON: 'cyclon'>, graph=<Graph.LATTICE: 'lattice'>, nodes=1000, view_size=100, shuffle_length=6, delta_t=10, disaster_intensity=0.95)\n",
      "  - Experiment(protocol=<Protocol.CYCLON: 'cyclon'>, graph=<Graph.STAR: 'star'>, nodes=1000, view_size=20, shuffle_length=6, delta_t=10, disaster_intensity=0.95)\n",
      "  - Experiment(protocol=<Protocol.CYCLON: 'cyclon'>, graph=<Graph.GEO: 'geo'>, nodes=1000, view_size=20, shuffle_length=10, delta_t=4, disaster_intensity=0.95)\n",
      "  - Experiment(protocol=<Protocol.CYCLON: 'cyclon'>, graph=<Graph.STAR: 'star'>, nodes=1000, view_size=20, shuffle_length=10, delta_t=1, disaster_intensity=0.95)\n",
      "  - Experiment(protocol=<Protocol.CYCLON: 'cyclon'>, graph=<Graph.RANDOM: 'random'>, nodes=1000, view_size=20, shuffle_length=15, delta_t=1, disaster_intensity=0.95)\n",
      "  - Experiment(protocol=<Protocol.CYCLON: 'cyclon'>, graph=<Graph.STAR: 'star'>, nodes=1000, view_size=20, shuffle_length=15, delta_t=4, disaster_intensity=0.95)\n",
      "  - Experiment(protocol=<Protocol.CYCLON: 'cyclon'>, graph=<Graph.GEO: 'geo'>, nodes=1000, view_size=20, shuffle_length=6, delta_t=4, disaster_intensity=0.95)\n",
      "  - Experiment(protocol=<Protocol.CYCLON: 'cyclon'>, graph=<Graph.STAR: 'star'>, nodes=1000, view_size=20, shuffle_length=6, delta_t=1, disaster_intensity=0.95)\n",
      "  - Experiment(protocol=<Protocol.NEWSCAST: 'newscast'>, graph=<Graph.RANDOM: 'random'>, nodes=1000, view_size=20, shuffle_length=10, delta_t=4, disaster_intensity=0.95)\n",
      "  - Experiment(protocol=<Protocol.CYCLON: 'cyclon'>, graph=<Graph.STAR: 'star'>, nodes=1000, view_size=20, shuffle_length=15, delta_t=10, disaster_intensity=0.95)\n",
      "  - Experiment(protocol=<Protocol.CYCLON: 'cyclon'>, graph=<Graph.RANDOM: 'random'>, nodes=1000, view_size=50, shuffle_length=15, delta_t=4, disaster_intensity=0.95)\n",
      "  - Experiment(protocol=<Protocol.NEWSCAST: 'newscast'>, graph=<Graph.LATTICE: 'lattice'>, nodes=1000, view_size=20, shuffle_length=10, delta_t=1, disaster_intensity=0.95)\n",
      "  - Experiment(protocol=<Protocol.CYCLON: 'cyclon'>, graph=<Graph.GEO: 'geo'>, nodes=1000, view_size=20, shuffle_length=10, delta_t=1, disaster_intensity=0.95)\n",
      "  - Experiment(protocol=<Protocol.CYCLON: 'cyclon'>, graph=<Graph.LATTICE: 'lattice'>, nodes=1000, view_size=50, shuffle_length=6, delta_t=1, disaster_intensity=0.95)\n",
      "  - Experiment(protocol=<Protocol.CYCLON: 'cyclon'>, graph=<Graph.STAR: 'star'>, nodes=1000, view_size=20, shuffle_length=10, delta_t=4, disaster_intensity=0.95)\n",
      "  - Experiment(protocol=<Protocol.CYCLON: 'cyclon'>, graph=<Graph.RANDOM: 'random'>, nodes=1000, view_size=20, shuffle_length=6, delta_t=4, disaster_intensity=0.95)\n",
      "  - Experiment(protocol=<Protocol.CYCLON: 'cyclon'>, graph=<Graph.STAR: 'star'>, nodes=1000, view_size=50, shuffle_length=6, delta_t=4, disaster_intensity=0.95)\n",
      "  - Experiment(protocol=<Protocol.CYCLON: 'cyclon'>, graph=<Graph.GEO: 'geo'>, nodes=1000, view_size=20, shuffle_length=6, delta_t=10, disaster_intensity=0.95)\n",
      "  - Experiment(protocol=<Protocol.CYCLON: 'cyclon'>, graph=<Graph.RANDOM: 'random'>, nodes=1000, view_size=20, shuffle_length=10, delta_t=1, disaster_intensity=0.95)\n",
      "  - Experiment(protocol=<Protocol.CYCLON: 'cyclon'>, graph=<Graph.STAR: 'star'>, nodes=1000, view_size=50, shuffle_length=10, delta_t=1, disaster_intensity=0.95)\n",
      "  - Experiment(protocol=<Protocol.CYCLON: 'cyclon'>, graph=<Graph.RANDOM: 'random'>, nodes=1000, view_size=20, shuffle_length=15, delta_t=4, disaster_intensity=0.95)\n",
      "  - Experiment(protocol=<Protocol.CYCLON: 'cyclon'>, graph=<Graph.STAR: 'star'>, nodes=1000, view_size=20, shuffle_length=10, delta_t=10, disaster_intensity=0.95)\n",
      "  - Experiment(protocol=<Protocol.CYCLON: 'cyclon'>, graph=<Graph.LATTICE: 'lattice'>, nodes=1000, view_size=20, shuffle_length=6, delta_t=4, disaster_intensity=0.95)\n",
      "  - Experiment(protocol=<Protocol.CYCLON: 'cyclon'>, graph=<Graph.RANDOM: 'random'>, nodes=1000, view_size=20, shuffle_length=6, delta_t=10, disaster_intensity=0.95)\n",
      "  - Experiment(protocol=<Protocol.CYCLON: 'cyclon'>, graph=<Graph.STAR: 'star'>, nodes=1000, view_size=50, shuffle_length=6, delta_t=10, disaster_intensity=0.95)\n",
      "  - Experiment(protocol=<Protocol.CYCLON: 'cyclon'>, graph=<Graph.GEO: 'geo'>, nodes=1000, view_size=20, shuffle_length=15, delta_t=10, disaster_intensity=0.95)\n",
      "  - Experiment(protocol=<Protocol.CYCLON: 'cyclon'>, graph=<Graph.LATTICE: 'lattice'>, nodes=1000, view_size=100, shuffle_length=6, delta_t=4, disaster_intensity=0.95)\n",
      "  - Experiment(protocol=<Protocol.CYCLON: 'cyclon'>, graph=<Graph.LATTICE: 'lattice'>, nodes=1000, view_size=20, shuffle_length=10, delta_t=1, disaster_intensity=0.95)\n",
      "  - Experiment(protocol=<Protocol.CYCLON: 'cyclon'>, graph=<Graph.STAR: 'star'>, nodes=1000, view_size=50, shuffle_length=15, delta_t=4, disaster_intensity=0.95)\n",
      "  - Experiment(protocol=<Protocol.NEWSCAST: 'newscast'>, graph=<Graph.LATTICE: 'lattice'>, nodes=1000, view_size=20, shuffle_length=10, delta_t=4, disaster_intensity=0.95)\n",
      "  - Experiment(protocol=<Protocol.CYCLON: 'cyclon'>, graph=<Graph.LATTICE: 'lattice'>, nodes=1000, view_size=100, shuffle_length=6, delta_t=1, disaster_intensity=0.95)\n",
      "  - Experiment(protocol=<Protocol.CYCLON: 'cyclon'>, graph=<Graph.RANDOM: 'random'>, nodes=1000, view_size=20, shuffle_length=15, delta_t=10, disaster_intensity=0.95)\n",
      "  - Experiment(protocol=<Protocol.NEWSCAST: 'newscast'>, graph=<Graph.LATTICE: 'lattice'>, nodes=1000, view_size=50, shuffle_length=10, delta_t=1, disaster_intensity=0.95)\n",
      "  - Experiment(protocol=<Protocol.CYCLON: 'cyclon'>, graph=<Graph.LATTICE: 'lattice'>, nodes=1000, view_size=20, shuffle_length=6, delta_t=10, disaster_intensity=0.95)\n",
      "  - Experiment(protocol=<Protocol.CYCLON: 'cyclon'>, graph=<Graph.LATTICE: 'lattice'>, nodes=1000, view_size=20, shuffle_length=6, delta_t=1, disaster_intensity=0.95)\n",
      "  - Experiment(protocol=<Protocol.CYCLON: 'cyclon'>, graph=<Graph.RANDOM: 'random'>, nodes=1000, view_size=20, shuffle_length=10, delta_t=4, disaster_intensity=0.95)\n",
      "  - Experiment(protocol=<Protocol.CYCLON: 'cyclon'>, graph=<Graph.STAR: 'star'>, nodes=1000, view_size=50, shuffle_length=10, delta_t=4, disaster_intensity=0.95)\n",
      "  - Experiment(protocol=<Protocol.CYCLON: 'cyclon'>, graph=<Graph.GEO: 'geo'>, nodes=1000, view_size=20, shuffle_length=10, delta_t=10, disaster_intensity=0.95)\n",
      "  - Experiment(protocol=<Protocol.CYCLON: 'cyclon'>, graph=<Graph.STAR: 'star'>, nodes=1000, view_size=20, shuffle_length=15, delta_t=1, disaster_intensity=0.95)\n",
      "  - Experiment(protocol=<Protocol.CYCLON: 'cyclon'>, graph=<Graph.LATTICE: 'lattice'>, nodes=1000, view_size=20, shuffle_length=15, delta_t=4, disaster_intensity=0.95)\n",
      "  - Experiment(protocol=<Protocol.CYCLON: 'cyclon'>, graph=<Graph.LATTICE: 'lattice'>, nodes=1000, view_size=20, shuffle_length=10, delta_t=4, disaster_intensity=0.95)\n",
      "  - Experiment(protocol=<Protocol.CYCLON: 'cyclon'>, graph=<Graph.RANDOM: 'random'>, nodes=1000, view_size=20, shuffle_length=10, delta_t=10, disaster_intensity=0.95)\n",
      "  - Experiment(protocol=<Protocol.NEWSCAST: 'newscast'>, graph=<Graph.RANDOM: 'random'>, nodes=1000, view_size=20, shuffle_length=10, delta_t=10, disaster_intensity=0.95)\n",
      "  - Experiment(protocol=<Protocol.CYCLON: 'cyclon'>, graph=<Graph.LATTICE: 'lattice'>, nodes=1000, view_size=50, shuffle_length=10, delta_t=1, disaster_intensity=0.95)\n",
      "  - Experiment(protocol=<Protocol.CYCLON: 'cyclon'>, graph=<Graph.STAR: 'star'>, nodes=1000, view_size=20, shuffle_length=6, delta_t=4, disaster_intensity=0.95)\n",
      "  - Experiment(protocol=<Protocol.NEWSCAST: 'newscast'>, graph=<Graph.LATTICE: 'lattice'>, nodes=1000, view_size=50, shuffle_length=10, delta_t=4, disaster_intensity=0.95)\n",
      "  - Experiment(protocol=<Protocol.CYCLON: 'cyclon'>, graph=<Graph.LATTICE: 'lattice'>, nodes=1000, view_size=100, shuffle_length=10, delta_t=1, disaster_intensity=0.95)\n"
     ]
    }
   ],
   "source": [
    "print(f\"There are {len(unrecovered_after_disaster)} runs which didn't recover after disaster.\")\n",
    "for run in unrecovered_after_disaster:\n",
    "    print(f\"  - {run}\")"
   ],
   "metadata": {
    "collapsed": false,
    "pycharm": {
     "name": "#%%\n"
    }
   }
  },
  {
   "cell_type": "markdown",
   "source": [
    "## Plots"
   ],
   "metadata": {
    "collapsed": false,
    "pycharm": {
     "name": "#%% md\n"
    }
   }
  },
  {
   "cell_type": "code",
   "execution_count": 80,
   "outputs": [],
   "source": [
    "# Groups of experiments\n",
    "groups = []\n",
    "\n",
    "for proto in (Protocol.CYCLON, Protocol.NEWSCAST):\n",
    "    for view_size in (20, 50, 100):\n",
    "        for graph in (Graph.GEO, Graph.RANDOM, Graph.LATTICE, Graph.STAR):\n",
    "            groups.append(sorted(list(\n",
    "                filter(\n",
    "                    lambda _: (\n",
    "                        _.protocol == proto\n",
    "                        and _.view_size == view_size\n",
    "                        and _.graph == graph\n",
    "                        # and _ not in partitioned_runs\n",
    "                    ),\n",
    "                    runs,\n",
    "                )\n",
    "            )))\n",
    "\n",
    "def normalize_experiment(experiment: Experiment, column: str):\n",
    "    normalized = np.zeros(301)\n",
    "    dt = experiment.delta_t\n",
    "    for cycle in range(301):\n",
    "        normalized[cycle] = sum(\n",
    "            runs[experiment][column][cycle * dt: cycle + dt]\n",
    "        ) / experiment.delta_t\n",
    "    return normalized\n",
    "\n",
    "def compute_metric(column: str, out_column: str, file_stem: str):\n",
    "    for group in groups:\n",
    "        group_average = DataFrame(columns=[out_column])\n",
    "\n",
    "        for experiment in group:\n",
    "            normalized = normalize_experiment(experiment, column)\n",
    "            if len(group_average) == 0:\n",
    "                group_average[out_column] = normalized\n",
    "            else:\n",
    "                group_average[out_column] += normalized\n",
    "                group_average[out_column] /= 2\n",
    "\n",
    "        path = Path() / \"report\" / \"figures\" / f\"{file_stem}\" / f\"{file_stem}_{experiment.protocol.value}_{experiment.view_size}_{experiment.graph.value}.dat\"\n",
    "        path.parent.mkdir(parents=True, exist_ok=True)\n",
    "        with open(path, 'w') as f:\n",
    "                f.write(f\"step {out_column}\\n\")\n",
    "                f.writelines([\n",
    "                    f\"{i} {r}\\n\"\n",
    "                    for i, r in enumerate(group_average[out_column])\n",
    "                ])\n",
    "                print(f\"Written {f.name}.\")"
   ],
   "metadata": {
    "collapsed": false,
    "pycharm": {
     "name": "#%%\n"
    }
   }
  },
  {
   "cell_type": "code",
   "execution_count": 81,
   "outputs": [
    {
     "name": "stdout",
     "output_type": "stream",
     "text": [
      "Written report\\figures\\clustering_coefficient\\clustering_coefficient_cyclon_20_geo.dat.\n",
      "Written report\\figures\\clustering_coefficient\\clustering_coefficient_cyclon_20_random.dat.\n",
      "Written report\\figures\\clustering_coefficient\\clustering_coefficient_cyclon_20_lattice.dat.\n",
      "Written report\\figures\\clustering_coefficient\\clustering_coefficient_cyclon_20_star.dat.\n",
      "Written report\\figures\\clustering_coefficient\\clustering_coefficient_cyclon_50_geo.dat.\n",
      "Written report\\figures\\clustering_coefficient\\clustering_coefficient_cyclon_50_random.dat.\n",
      "Written report\\figures\\clustering_coefficient\\clustering_coefficient_cyclon_50_lattice.dat.\n",
      "Written report\\figures\\clustering_coefficient\\clustering_coefficient_cyclon_50_star.dat.\n",
      "Written report\\figures\\clustering_coefficient\\clustering_coefficient_cyclon_100_geo.dat.\n",
      "Written report\\figures\\clustering_coefficient\\clustering_coefficient_cyclon_100_random.dat.\n",
      "Written report\\figures\\clustering_coefficient\\clustering_coefficient_cyclon_100_lattice.dat.\n",
      "Written report\\figures\\clustering_coefficient\\clustering_coefficient_cyclon_100_star.dat.\n",
      "Written report\\figures\\clustering_coefficient\\clustering_coefficient_newscast_20_geo.dat.\n",
      "Written report\\figures\\clustering_coefficient\\clustering_coefficient_newscast_20_random.dat.\n",
      "Written report\\figures\\clustering_coefficient\\clustering_coefficient_newscast_20_lattice.dat.\n",
      "Written report\\figures\\clustering_coefficient\\clustering_coefficient_newscast_20_star.dat.\n",
      "Written report\\figures\\clustering_coefficient\\clustering_coefficient_newscast_50_geo.dat.\n",
      "Written report\\figures\\clustering_coefficient\\clustering_coefficient_newscast_50_random.dat.\n",
      "Written report\\figures\\clustering_coefficient\\clustering_coefficient_newscast_50_lattice.dat.\n",
      "Written report\\figures\\clustering_coefficient\\clustering_coefficient_newscast_50_star.dat.\n",
      "Written report\\figures\\clustering_coefficient\\clustering_coefficient_newscast_100_geo.dat.\n",
      "Written report\\figures\\clustering_coefficient\\clustering_coefficient_newscast_100_random.dat.\n",
      "Written report\\figures\\clustering_coefficient\\clustering_coefficient_newscast_100_lattice.dat.\n",
      "Written report\\figures\\clustering_coefficient\\clustering_coefficient_newscast_100_star.dat.\n",
      "Written report\\figures\\average_path_length\\average_path_length_cyclon_20_geo.dat.\n",
      "Written report\\figures\\average_path_length\\average_path_length_cyclon_20_random.dat.\n",
      "Written report\\figures\\average_path_length\\average_path_length_cyclon_20_lattice.dat.\n",
      "Written report\\figures\\average_path_length\\average_path_length_cyclon_20_star.dat.\n",
      "Written report\\figures\\average_path_length\\average_path_length_cyclon_50_geo.dat.\n",
      "Written report\\figures\\average_path_length\\average_path_length_cyclon_50_random.dat.\n",
      "Written report\\figures\\average_path_length\\average_path_length_cyclon_50_lattice.dat.\n",
      "Written report\\figures\\average_path_length\\average_path_length_cyclon_50_star.dat.\n",
      "Written report\\figures\\average_path_length\\average_path_length_cyclon_100_geo.dat.\n",
      "Written report\\figures\\average_path_length\\average_path_length_cyclon_100_random.dat.\n",
      "Written report\\figures\\average_path_length\\average_path_length_cyclon_100_lattice.dat.\n",
      "Written report\\figures\\average_path_length\\average_path_length_cyclon_100_star.dat.\n",
      "Written report\\figures\\average_path_length\\average_path_length_newscast_20_geo.dat.\n",
      "Written report\\figures\\average_path_length\\average_path_length_newscast_20_random.dat.\n",
      "Written report\\figures\\average_path_length\\average_path_length_newscast_20_lattice.dat.\n",
      "Written report\\figures\\average_path_length\\average_path_length_newscast_20_star.dat.\n",
      "Written report\\figures\\average_path_length\\average_path_length_newscast_50_geo.dat.\n",
      "Written report\\figures\\average_path_length\\average_path_length_newscast_50_random.dat.\n",
      "Written report\\figures\\average_path_length\\average_path_length_newscast_50_lattice.dat.\n",
      "Written report\\figures\\average_path_length\\average_path_length_newscast_50_star.dat.\n",
      "Written report\\figures\\average_path_length\\average_path_length_newscast_100_geo.dat.\n",
      "Written report\\figures\\average_path_length\\average_path_length_newscast_100_random.dat.\n",
      "Written report\\figures\\average_path_length\\average_path_length_newscast_100_lattice.dat.\n",
      "Written report\\figures\\average_path_length\\average_path_length_newscast_100_star.dat.\n",
      "Written report\\figures\\degree\\degree_cyclon_20_geo.dat.\n",
      "Written report\\figures\\degree\\degree_cyclon_20_random.dat.\n",
      "Written report\\figures\\degree\\degree_cyclon_20_lattice.dat.\n",
      "Written report\\figures\\degree\\degree_cyclon_20_star.dat.\n",
      "Written report\\figures\\degree\\degree_cyclon_50_geo.dat.\n",
      "Written report\\figures\\degree\\degree_cyclon_50_random.dat.\n",
      "Written report\\figures\\degree\\degree_cyclon_50_lattice.dat.\n",
      "Written report\\figures\\degree\\degree_cyclon_50_star.dat.\n",
      "Written report\\figures\\degree\\degree_cyclon_100_geo.dat.\n",
      "Written report\\figures\\degree\\degree_cyclon_100_random.dat.\n",
      "Written report\\figures\\degree\\degree_cyclon_100_lattice.dat.\n",
      "Written report\\figures\\degree\\degree_cyclon_100_star.dat.\n",
      "Written report\\figures\\degree\\degree_newscast_20_geo.dat.\n",
      "Written report\\figures\\degree\\degree_newscast_20_random.dat.\n",
      "Written report\\figures\\degree\\degree_newscast_20_lattice.dat.\n",
      "Written report\\figures\\degree\\degree_newscast_20_star.dat.\n",
      "Written report\\figures\\degree\\degree_newscast_50_geo.dat.\n",
      "Written report\\figures\\degree\\degree_newscast_50_random.dat.\n",
      "Written report\\figures\\degree\\degree_newscast_50_lattice.dat.\n",
      "Written report\\figures\\degree\\degree_newscast_50_star.dat.\n",
      "Written report\\figures\\degree\\degree_newscast_100_geo.dat.\n",
      "Written report\\figures\\degree\\degree_newscast_100_random.dat.\n",
      "Written report\\figures\\degree\\degree_newscast_100_lattice.dat.\n",
      "Written report\\figures\\degree\\degree_newscast_100_star.dat.\n",
      "Written report\\figures\\unprocessed_messages\\unprocessed_messages_cyclon_20_geo.dat.\n",
      "Written report\\figures\\unprocessed_messages\\unprocessed_messages_cyclon_20_random.dat.\n",
      "Written report\\figures\\unprocessed_messages\\unprocessed_messages_cyclon_20_lattice.dat.\n",
      "Written report\\figures\\unprocessed_messages\\unprocessed_messages_cyclon_20_star.dat.\n",
      "Written report\\figures\\unprocessed_messages\\unprocessed_messages_cyclon_50_geo.dat.\n",
      "Written report\\figures\\unprocessed_messages\\unprocessed_messages_cyclon_50_random.dat.\n",
      "Written report\\figures\\unprocessed_messages\\unprocessed_messages_cyclon_50_lattice.dat.\n",
      "Written report\\figures\\unprocessed_messages\\unprocessed_messages_cyclon_50_star.dat.\n",
      "Written report\\figures\\unprocessed_messages\\unprocessed_messages_cyclon_100_geo.dat.\n",
      "Written report\\figures\\unprocessed_messages\\unprocessed_messages_cyclon_100_random.dat.\n",
      "Written report\\figures\\unprocessed_messages\\unprocessed_messages_cyclon_100_lattice.dat.\n",
      "Written report\\figures\\unprocessed_messages\\unprocessed_messages_cyclon_100_star.dat.\n",
      "Written report\\figures\\unprocessed_messages\\unprocessed_messages_newscast_20_geo.dat.\n",
      "Written report\\figures\\unprocessed_messages\\unprocessed_messages_newscast_20_random.dat.\n",
      "Written report\\figures\\unprocessed_messages\\unprocessed_messages_newscast_20_lattice.dat.\n",
      "Written report\\figures\\unprocessed_messages\\unprocessed_messages_newscast_20_star.dat.\n",
      "Written report\\figures\\unprocessed_messages\\unprocessed_messages_newscast_50_geo.dat.\n",
      "Written report\\figures\\unprocessed_messages\\unprocessed_messages_newscast_50_random.dat.\n",
      "Written report\\figures\\unprocessed_messages\\unprocessed_messages_newscast_50_lattice.dat.\n",
      "Written report\\figures\\unprocessed_messages\\unprocessed_messages_newscast_50_star.dat.\n",
      "Written report\\figures\\unprocessed_messages\\unprocessed_messages_newscast_100_geo.dat.\n",
      "Written report\\figures\\unprocessed_messages\\unprocessed_messages_newscast_100_random.dat.\n",
      "Written report\\figures\\unprocessed_messages\\unprocessed_messages_newscast_100_lattice.dat.\n",
      "Written report\\figures\\unprocessed_messages\\unprocessed_messages_newscast_100_star.dat.\n",
      "Written report\\figures\\average_message_latency\\average_message_latency_cyclon_20_geo.dat.\n",
      "Written report\\figures\\average_message_latency\\average_message_latency_cyclon_20_random.dat.\n",
      "Written report\\figures\\average_message_latency\\average_message_latency_cyclon_20_lattice.dat.\n",
      "Written report\\figures\\average_message_latency\\average_message_latency_cyclon_20_star.dat.\n",
      "Written report\\figures\\average_message_latency\\average_message_latency_cyclon_50_geo.dat.\n",
      "Written report\\figures\\average_message_latency\\average_message_latency_cyclon_50_random.dat.\n",
      "Written report\\figures\\average_message_latency\\average_message_latency_cyclon_50_lattice.dat.\n",
      "Written report\\figures\\average_message_latency\\average_message_latency_cyclon_50_star.dat.\n",
      "Written report\\figures\\average_message_latency\\average_message_latency_cyclon_100_geo.dat.\n",
      "Written report\\figures\\average_message_latency\\average_message_latency_cyclon_100_random.dat.\n",
      "Written report\\figures\\average_message_latency\\average_message_latency_cyclon_100_lattice.dat.\n",
      "Written report\\figures\\average_message_latency\\average_message_latency_cyclon_100_star.dat.\n",
      "Written report\\figures\\average_message_latency\\average_message_latency_newscast_20_geo.dat.\n",
      "Written report\\figures\\average_message_latency\\average_message_latency_newscast_20_random.dat.\n",
      "Written report\\figures\\average_message_latency\\average_message_latency_newscast_20_lattice.dat.\n",
      "Written report\\figures\\average_message_latency\\average_message_latency_newscast_20_star.dat.\n",
      "Written report\\figures\\average_message_latency\\average_message_latency_newscast_50_geo.dat.\n",
      "Written report\\figures\\average_message_latency\\average_message_latency_newscast_50_random.dat.\n",
      "Written report\\figures\\average_message_latency\\average_message_latency_newscast_50_lattice.dat.\n",
      "Written report\\figures\\average_message_latency\\average_message_latency_newscast_50_star.dat.\n",
      "Written report\\figures\\average_message_latency\\average_message_latency_newscast_100_geo.dat.\n",
      "Written report\\figures\\average_message_latency\\average_message_latency_newscast_100_random.dat.\n",
      "Written report\\figures\\average_message_latency\\average_message_latency_newscast_100_lattice.dat.\n",
      "Written report\\figures\\average_message_latency\\average_message_latency_newscast_100_star.dat.\n",
      "Written report\\figures\\pollution\\pollution_cyclon_20_geo.dat.\n",
      "Written report\\figures\\pollution\\pollution_cyclon_20_random.dat.\n",
      "Written report\\figures\\pollution\\pollution_cyclon_20_lattice.dat.\n",
      "Written report\\figures\\pollution\\pollution_cyclon_20_star.dat.\n",
      "Written report\\figures\\pollution\\pollution_cyclon_50_geo.dat.\n",
      "Written report\\figures\\pollution\\pollution_cyclon_50_random.dat.\n",
      "Written report\\figures\\pollution\\pollution_cyclon_50_lattice.dat.\n",
      "Written report\\figures\\pollution\\pollution_cyclon_50_star.dat.\n",
      "Written report\\figures\\pollution\\pollution_cyclon_100_geo.dat.\n",
      "Written report\\figures\\pollution\\pollution_cyclon_100_random.dat.\n",
      "Written report\\figures\\pollution\\pollution_cyclon_100_lattice.dat.\n",
      "Written report\\figures\\pollution\\pollution_cyclon_100_star.dat.\n",
      "Written report\\figures\\pollution\\pollution_newscast_20_geo.dat.\n",
      "Written report\\figures\\pollution\\pollution_newscast_20_random.dat.\n",
      "Written report\\figures\\pollution\\pollution_newscast_20_lattice.dat.\n",
      "Written report\\figures\\pollution\\pollution_newscast_20_star.dat.\n",
      "Written report\\figures\\pollution\\pollution_newscast_50_geo.dat.\n",
      "Written report\\figures\\pollution\\pollution_newscast_50_random.dat.\n",
      "Written report\\figures\\pollution\\pollution_newscast_50_lattice.dat.\n",
      "Written report\\figures\\pollution\\pollution_newscast_50_star.dat.\n",
      "Written report\\figures\\pollution\\pollution_newscast_100_geo.dat.\n",
      "Written report\\figures\\pollution\\pollution_newscast_100_random.dat.\n",
      "Written report\\figures\\pollution\\pollution_newscast_100_lattice.dat.\n",
      "Written report\\figures\\pollution\\pollution_newscast_100_star.dat.\n"
     ]
    }
   ],
   "source": [
    "# Clustering coefficient\n",
    "compute_metric(\"Alive Clustering Coefficient\", \"CC\", \"clustering_coefficient\")\n",
    "\n",
    "# Average path length\n",
    "compute_metric(\"Alive Average Path Length\", \"APL\", \"average_path_length\")\n",
    "\n",
    "# Degree\n",
    "compute_metric(\"Alive Degree\", \"DEG\", \"degree\")\n",
    "\n",
    "# Unprocessed messages\n",
    "compute_metric(\"Alive Unprocessed Messages\", \"UNMSG\", \"unprocessed_messages\")\n",
    "\n",
    "# Average message latency\n",
    "compute_metric(\"Alive Average Message Latency\", \"LAT\", \"average_message_latency\")\n",
    "\n",
    "# Pollution\n",
    "compute_metric(\"Pollution\", \"POL\", \"pollution\")"
   ],
   "metadata": {
    "collapsed": false,
    "pycharm": {
     "name": "#%%\n"
    }
   }
  }
 ],
 "metadata": {
  "kernelspec": {
   "display_name": "Python 3",
   "language": "python",
   "name": "python3"
  },
  "language_info": {
   "codemirror_mode": {
    "name": "ipython",
    "version": 2
   },
   "file_extension": ".py",
   "mimetype": "text/x-python",
   "name": "python",
   "nbconvert_exporter": "python",
   "pygments_lexer": "ipython2",
   "version": "2.7.6"
  }
 },
 "nbformat": 4,
 "nbformat_minor": 0
}